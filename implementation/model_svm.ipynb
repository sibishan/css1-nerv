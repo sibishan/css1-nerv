{
 "cells": [
  {
   "cell_type": "code",
   "execution_count": null,
   "id": "54070201",
   "metadata": {},
   "outputs": [
    {
     "ename": "",
     "evalue": "",
     "output_type": "error",
     "traceback": [
      "\u001b[1;31mRunning cells with 'base (Python 3.11.5)' requires the ipykernel package.\n",
      "\u001b[1;31mRun the following command to install 'ipykernel' into the Python environment. \n",
      "\u001b[1;31mCommand: 'conda install -n base ipykernel --update-deps --force-reinstall'"
     ]
    }
   ],
   "source": [
    "import yfinance as yf\n",
    "import numpy as np\n",
    "import pandas as pd\n",
    "from sklearn.model_selection import train_test_split\n",
    "from sklearn.preprocessing import MinMaxScaler\n",
    "from sklearn.metrics import mean_absolute_error\n",
    "from tensorflow.keras.models import Sequential\n",
    "from tensorflow.keras.layers import SimpleRNN, Dense\n",
    "from tensorflow.keras.optimizers import Adam\n",
    "from keras_tuner import RandomSearch\n",
    "from sklearn.metrics import mean_squared_error, mean_absolute_error\n",
    "import matplotlib.pyplot as plt\n",
    "\n",
    "\n",
    "\n",
    "# Fetch the data\n",
    "ticker_symbol = \"MQG.AX\"\n",
    "westpac = yf.Ticker(ticker_symbol)\n",
    "data = westpac.history(period=\"10y\", interval=\"1wk\")\n"
   ]
  },
  {
   "cell_type": "code",
   "execution_count": 14,
   "id": "0e8715df",
   "metadata": {},
   "outputs": [
    {
     "name": "stdout",
     "output_type": "stream",
     "text": [
      "Collecting scikit-optimize\n",
      "  Obtaining dependency information for scikit-optimize from https://files.pythonhosted.org/packages/90/0e/15deb91b3db0003843e34e72fa865e1d92013781d986fdc65483c99a9f69/scikit_optimize-0.10.1-py2.py3-none-any.whl.metadata\n",
      "  Downloading scikit_optimize-0.10.1-py2.py3-none-any.whl.metadata (9.7 kB)\n",
      "Requirement already satisfied: joblib>=0.11 in c:\\users\\kirill\\anaconda3\\lib\\site-packages (from scikit-optimize) (1.2.0)\n",
      "Collecting pyaml>=16.9 (from scikit-optimize)\n",
      "  Obtaining dependency information for pyaml>=16.9 from https://files.pythonhosted.org/packages/70/d9/6fdc01cee01fe56fddfd46892d9846ebb53a5f8eb78056955c516eef42c5/pyaml-24.4.0-py3-none-any.whl.metadata\n",
      "  Downloading pyaml-24.4.0-py3-none-any.whl.metadata (11 kB)\n",
      "Requirement already satisfied: numpy>=1.20.3 in c:\\users\\kirill\\anaconda3\\lib\\site-packages (from scikit-optimize) (1.24.3)\n",
      "Requirement already satisfied: scipy>=1.1.0 in c:\\users\\kirill\\anaconda3\\lib\\site-packages (from scikit-optimize) (1.10.1)\n",
      "Requirement already satisfied: scikit-learn>=1.0.0 in c:\\users\\kirill\\anaconda3\\lib\\site-packages (from scikit-optimize) (1.3.0)\n",
      "Requirement already satisfied: packaging>=21.3 in c:\\users\\kirill\\anaconda3\\lib\\site-packages (from scikit-optimize) (23.0)\n",
      "Requirement already satisfied: PyYAML in c:\\users\\kirill\\anaconda3\\lib\\site-packages (from pyaml>=16.9->scikit-optimize) (6.0)\n",
      "Requirement already satisfied: threadpoolctl>=2.0.0 in c:\\users\\kirill\\anaconda3\\lib\\site-packages (from scikit-learn>=1.0.0->scikit-optimize) (3.5.0)\n",
      "Downloading scikit_optimize-0.10.1-py2.py3-none-any.whl (107 kB)\n",
      "   ---------------------------------------- 0.0/107.7 kB ? eta -:--:--\n",
      "   ---------------------------------------- 107.7/107.7 kB 6.1 MB/s eta 0:00:00\n",
      "Downloading pyaml-24.4.0-py3-none-any.whl (24 kB)\n",
      "Installing collected packages: pyaml, scikit-optimize\n",
      "Successfully installed pyaml-24.4.0 scikit-optimize-0.10.1\n"
     ]
    }
   ],
   "source": [
    "!pip install scikit-optimize"
   ]
  },
  {
   "cell_type": "code",
   "execution_count": null,
   "id": "1f826c30",
   "metadata": {},
   "outputs": [
    {
     "ename": "",
     "evalue": "",
     "output_type": "error",
     "traceback": [
      "\u001b[1;31mRunning cells with 'base (Python 3.11.5)' requires the ipykernel package.\n",
      "\u001b[1;31mRun the following command to install 'ipykernel' into the Python environment. \n",
      "\u001b[1;31mCommand: 'conda install -n base ipykernel --update-deps --force-reinstall'"
     ]
    }
   ],
   "source": [
    "print(data)"
   ]
  },
  {
   "cell_type": "code",
   "execution_count": 2,
   "id": "6d5b07f3",
   "metadata": {},
   "outputs": [
    {
     "name": "stdout",
     "output_type": "stream",
     "text": [
      "                                 Open        High         Low       Close  \\\n",
      "Date                                                                        \n",
      "2014-05-26 00:00:00+10:00   39.357972   39.416560   39.025976   39.078053   \n",
      "2014-06-02 00:00:00+10:00   39.078051   39.442598   38.414056   39.123619   \n",
      "2014-06-09 00:00:00+10:00   39.123618   39.572793   38.863229   39.045502   \n",
      "2014-06-16 00:00:00+10:00   38.993419   39.833175   38.778596   39.384003   \n",
      "2014-06-23 00:00:00+10:00   39.423063   39.813647   38.804636   39.357964   \n",
      "...                               ...         ...         ...         ...   \n",
      "2024-04-29 00:00:00+10:00  184.578419  184.862636  179.707422  180.168060   \n",
      "2024-05-06 00:00:00+10:00  178.237300  189.733631  177.247425  189.420013   \n",
      "2024-05-13 00:00:00+10:00  186.303348  189.959056  183.010280  187.058014   \n",
      "2024-05-20 00:00:00+10:00  191.320007  196.179993  190.610001  192.210007   \n",
      "2024-05-27 00:00:00+10:00  194.080002  194.449997  188.389999  189.479996   \n",
      "\n",
      "                            Volume  Dividends  Stock Splits      Target  \n",
      "Date                                                                     \n",
      "2014-05-26 00:00:00+10:00  3033880       0.00           0.0   39.123619  \n",
      "2014-06-02 00:00:00+10:00  5598853       0.00           0.0   39.045502  \n",
      "2014-06-09 00:00:00+10:00  3135844       0.00           0.0   39.384003  \n",
      "2014-06-16 00:00:00+10:00  4558145       0.00           0.0   39.357964  \n",
      "2014-06-23 00:00:00+10:00  6403718       0.00           0.0   39.344944  \n",
      "...                            ...        ...           ...         ...  \n",
      "2024-04-29 00:00:00+10:00  3221948       0.00           0.0  189.420013  \n",
      "2024-05-06 00:00:00+10:00  3834701       0.00           0.0  187.058014  \n",
      "2024-05-13 00:00:00+10:00  4497288       3.85           0.0  192.210007  \n",
      "2024-05-20 00:00:00+10:00  3263851       0.00           0.0  189.479996  \n",
      "2024-05-27 00:00:00+10:00  1976523       0.00           0.0         NaN  \n",
      "\n",
      "[523 rows x 8 columns]\n"
     ]
    }
   ],
   "source": [
    "# define target value (closing price of the next day)\n",
    "data['Target'] = data['Close'].shift(-1) # -1 used to used next day's price as target\n",
    "print(data)"
   ]
  },
  {
   "cell_type": "code",
   "execution_count": 3,
   "id": "e3c9d52d",
   "metadata": {},
   "outputs": [
    {
     "name": "stdout",
     "output_type": "stream",
     "text": [
      "                                Open       High        Low      Close  \\\n",
      "Date                                                                    \n",
      "2014-05-26 00:00:00+10:00  39.357972  39.416560  39.025976  39.078053   \n",
      "2014-06-02 00:00:00+10:00  39.078051  39.442598  38.414056  39.123619   \n",
      "2014-06-09 00:00:00+10:00  39.123618  39.572793  38.863229  39.045502   \n",
      "2014-06-16 00:00:00+10:00  38.993419  39.833175  38.778596  39.384003   \n",
      "2014-06-23 00:00:00+10:00  39.423063  39.813647  38.804636  39.357964   \n",
      "2014-06-30 00:00:00+10:00  39.442591  39.631375  38.296876  39.344944   \n",
      "2014-07-07 00:00:00+10:00  39.397032  39.449108  38.101590  38.576801   \n",
      "2014-07-14 00:00:00+10:00  38.648399  39.165925  38.283854  39.058514   \n",
      "2014-07-21 00:00:00+10:00  39.227775  39.885261  38.003943  38.160175   \n",
      "2014-07-28 00:00:00+10:00  37.567791  38.101591  37.170696  37.567791   \n",
      "2014-08-04 00:00:00+10:00  37.463628  37.750058  35.998933  36.226776   \n",
      "2014-08-11 00:00:00+10:00  36.584810  37.378998  36.441595  37.125118   \n",
      "2014-08-18 00:00:00+10:00  37.079554  38.544249  37.001438  38.003941   \n",
      "2014-08-25 00:00:00+10:00  38.069038  38.238293  37.619866  37.951862   \n",
      "2014-09-01 00:00:00+10:00  38.075549  38.524721  37.470142  37.593826   \n",
      "2014-09-08 00:00:00+10:00  37.567787  38.059274  37.112103  37.724022   \n",
      "2014-09-15 00:00:00+10:00  37.645907  38.498683  37.619867  38.029980   \n",
      "2014-09-22 00:00:00+10:00  38.049513  38.498685  37.470145  37.619869   \n",
      "2014-09-29 00:00:00+10:00  37.431090  37.652422  36.910310  37.248817   \n",
      "2014-10-06 00:00:00+11:00  37.248807  37.463628  36.181208  36.343952   \n",
      "\n",
      "                            Volume  Dividends  Stock Splits     SMA_10  \\\n",
      "Date                                                                     \n",
      "2014-05-26 00:00:00+10:00  3033880        0.0           0.0        NaN   \n",
      "2014-06-02 00:00:00+10:00  5598853        0.0           0.0        NaN   \n",
      "2014-06-09 00:00:00+10:00  3135844        0.0           0.0        NaN   \n",
      "2014-06-16 00:00:00+10:00  4558145        0.0           0.0        NaN   \n",
      "2014-06-23 00:00:00+10:00  6403718        0.0           0.0        NaN   \n",
      "2014-06-30 00:00:00+10:00  3841693        0.0           0.0        NaN   \n",
      "2014-07-07 00:00:00+10:00  2924759        0.0           0.0        NaN   \n",
      "2014-07-14 00:00:00+10:00  4872580        0.0           0.0        NaN   \n",
      "2014-07-21 00:00:00+10:00  7837519        0.0           0.0        NaN   \n",
      "2014-07-28 00:00:00+10:00  6709348        0.0           0.0        NaN   \n",
      "2014-08-04 00:00:00+10:00  5176085        0.0           0.0  38.869736   \n",
      "2014-08-11 00:00:00+10:00  6093876        0.0           0.0  38.584609   \n",
      "2014-08-18 00:00:00+10:00  4379485        0.0           0.0  38.384759   \n",
      "2014-08-25 00:00:00+10:00  5046159        0.0           0.0  38.280603   \n",
      "2014-09-01 00:00:00+10:00  3472437        0.0           0.0  38.137389   \n",
      "2014-09-08 00:00:00+10:00  4187776        0.0           0.0  37.960975   \n",
      "2014-09-15 00:00:00+10:00  7123448        0.0           0.0  37.798883   \n",
      "2014-09-22 00:00:00+10:00  6037949        0.0           0.0  37.744201   \n",
      "2014-09-29 00:00:00+10:00  4280706        0.0           0.0  37.600336   \n",
      "2014-10-06 00:00:00+11:00  4663413        0.0           0.0  37.509200   \n",
      "\n",
      "                           SMA_25  Momentum  Stochastic_%K  Stochastic_%D  \\\n",
      "Date                                                                        \n",
      "2014-05-26 00:00:00+10:00     NaN       NaN            NaN            NaN   \n",
      "2014-06-02 00:00:00+10:00     NaN       NaN            NaN            NaN   \n",
      "2014-06-09 00:00:00+10:00     NaN  0.045567            NaN            NaN   \n",
      "2014-06-16 00:00:00+10:00     NaN -0.078117            NaN            NaN   \n",
      "2014-06-23 00:00:00+10:00     NaN  0.338501            NaN            NaN   \n",
      "2014-06-30 00:00:00+10:00     NaN -0.026039            NaN            NaN   \n",
      "2014-07-07 00:00:00+10:00     NaN -0.013020            NaN            NaN   \n",
      "2014-07-14 00:00:00+10:00     NaN -0.768143            NaN            NaN   \n",
      "2014-07-21 00:00:00+10:00     NaN  0.481712            NaN            NaN   \n",
      "2014-07-28 00:00:00+10:00     NaN -0.898338            NaN            NaN   \n",
      "2014-08-04 00:00:00+10:00     NaN -0.592384            NaN            NaN   \n",
      "2014-08-11 00:00:00+10:00     NaN -1.341015            NaN            NaN   \n",
      "2014-08-18 00:00:00+10:00     NaN  0.898342            NaN            NaN   \n",
      "2014-08-25 00:00:00+10:00     NaN  0.878822            NaN            NaN   \n",
      "2014-09-01 00:00:00+10:00     NaN -0.052078      50.251270            NaN   \n",
      "2014-09-08 00:00:00+10:00     NaN -0.358036      41.038562            NaN   \n",
      "2014-09-15 00:00:00+10:00     NaN  0.130196      44.388655      45.226162   \n",
      "2014-09-22 00:00:00+10:00     NaN  0.305958      52.261326      45.896181   \n",
      "2014-09-29 00:00:00+10:00     NaN -0.410110      41.708679      46.119553   \n",
      "2014-10-06 00:00:00+11:00     NaN -0.371052      32.161059      42.043688   \n",
      "\n",
      "                                 RSI      MACD  MACD_Signal     Target  \n",
      "Date                                                                    \n",
      "2014-05-26 00:00:00+10:00        NaN       NaN          NaN  39.123619  \n",
      "2014-06-02 00:00:00+10:00        NaN  0.000000     0.000000  39.045502  \n",
      "2014-06-09 00:00:00+10:00        NaN  0.003635     0.000727  39.384003  \n",
      "2014-06-16 00:00:00+10:00        NaN  0.000210     0.000624  39.357964  \n",
      "2014-06-23 00:00:00+10:00        NaN  0.024527     0.005404  39.344944  \n",
      "2014-06-30 00:00:00+10:00        NaN  0.041222     0.012568  38.576801  \n",
      "2014-07-07 00:00:00+10:00        NaN  0.052794     0.020613  39.058514  \n",
      "2014-07-14 00:00:00+10:00        NaN -0.000018     0.016487  38.160175  \n",
      "2014-07-21 00:00:00+10:00        NaN -0.002967     0.012596  37.567791  \n",
      "2014-07-28 00:00:00+10:00        NaN -0.076906    -0.005304  36.226776  \n",
      "2014-08-04 00:00:00+10:00        NaN -0.181215    -0.040487  37.125118  \n",
      "2014-08-11 00:00:00+10:00        NaN -0.367849    -0.105959  38.003941  \n",
      "2014-08-18 00:00:00+10:00        NaN -0.438218    -0.172411  37.951862  \n",
      "2014-08-25 00:00:00+10:00  41.555725 -0.418250    -0.221579  37.593826  \n",
      "2014-09-01 00:00:00+10:00  41.218213 -0.401994    -0.257662  37.724022  \n",
      "2014-09-08 00:00:00+10:00  39.038397 -0.413238    -0.288777  38.029980  \n",
      "2014-09-15 00:00:00+10:00  39.791032 -0.406952    -0.312412  37.619869  \n",
      "2014-09-22 00:00:00+10:00  42.830851 -0.372983    -0.324526  37.248817  \n",
      "2014-09-29 00:00:00+10:00  37.670634 -0.374834    -0.334588  36.343952  \n",
      "2014-10-06 00:00:00+11:00  35.937538 -0.401612    -0.347993  37.424576  \n"
     ]
    }
   ],
   "source": [
    "# add indicators\n",
    "\n",
    "# SMA-10\n",
    "data['SMA_10'] = data['Close'].rolling(window=10).mean().shift(1)\n",
    "# SMA 25\n",
    "data['SMA_25'] = data['Close'].rolling(window=25).mean().shift(1)\n",
    "\n",
    "# Momentum (Close price difference shifted by 1 to use previous day's data)\n",
    "data['Momentum'] = data['Close'].diff().shift(1)\n",
    "\n",
    "# Stochastic %K and %D using data up to the previous day\n",
    "low_min = data['Low'].rolling(window=14).min().shift(1)\n",
    "high_max = data['High'].rolling(window=14).max().shift(1)\n",
    "data['Stochastic_%K'] = ((data['Close'].shift(1) - low_min) / (high_max - low_min)) * 100\n",
    "data['Stochastic_%D'] = data['Stochastic_%K'].rolling(window=3).mean()\n",
    "\n",
    "# RSI calculated from previous days\n",
    "delta = data['Close'].diff(1).shift(1)\n",
    "gain = (delta.where(delta > 0, 0)).rolling(window=14).mean()\n",
    "loss = (-delta.where(delta < 0, 0)).rolling(window=14).mean()\n",
    "rs = gain / loss\n",
    "data['RSI'] = 100 - (100 / (1 + rs))\n",
    "\n",
    "# MACD calculation shifted to include only past data\n",
    "exp1 = data['Close'].ewm(span=12, adjust=False).mean().shift(1)\n",
    "exp2 = data['Close'].ewm(span=26, adjust=False).mean().shift(1)\n",
    "macd = exp1 - exp2\n",
    "signal = macd.ewm(span=9, adjust=False).mean()\n",
    "data['MACD'] = macd\n",
    "data['MACD_Signal'] = signal\n",
    "\n",
    "\n",
    "# list of columns\n",
    "columns = ['Open', 'High', 'Low', 'Close', 'Volume', 'Dividends', 'Stock Splits',\n",
    "           'Target', 'SMA_10', 'SMA_25', 'Momentum', 'Stochastic_%K', 'Stochastic_%D', 'RSI',\n",
    "           'MACD', 'MACD_Signal']\n",
    "\n",
    "# reorder columns to put 'Target' in the end\n",
    "columns.remove('Target')\n",
    "columns.append('Target')\n",
    "data= data[columns]\n",
    "\n",
    "print(data.head(20))"
   ]
  },
  {
   "cell_type": "code",
   "execution_count": 4,
   "id": "d7e2d10b",
   "metadata": {},
   "outputs": [
    {
     "name": "stdout",
     "output_type": "stream",
     "text": [
      "497\n",
      "                                 Open        High         Low       Close  \\\n",
      "Date                                                                        \n",
      "2014-11-17 00:00:00+11:00   40.096588   40.143134   38.633694   38.866428   \n",
      "2014-11-24 00:00:00+11:00   39.165651   39.764106   38.646987   38.853123   \n",
      "2014-12-01 00:00:00+11:00   39.491480   40.495558   38.214774   40.163082   \n",
      "2014-12-08 00:00:00+11:00   40.475607   40.828033   38.500703   38.766682   \n",
      "2014-12-15 00:00:00+11:00   37.988690   38.447506   36.964664   38.447506   \n",
      "...                               ...         ...         ...         ...   \n",
      "2024-04-22 00:00:00+10:00  181.794984  187.616644  180.726686  182.696655   \n",
      "2024-04-29 00:00:00+10:00  184.578419  184.862636  179.707422  180.168060   \n",
      "2024-05-06 00:00:00+10:00  178.237300  189.733631  177.247425  189.420013   \n",
      "2024-05-13 00:00:00+10:00  186.303348  189.959056  183.010280  187.058014   \n",
      "2024-05-20 00:00:00+10:00  191.320007  196.179993  190.610001  192.210007   \n",
      "\n",
      "                            Volume  Dividends  Stock Splits      SMA_10  \\\n",
      "Date                                                                      \n",
      "2014-11-17 00:00:00+11:00  3961233       0.00           0.0   38.298183   \n",
      "2014-11-24 00:00:00+11:00  4564185       0.00           0.0   38.412424   \n",
      "2014-12-01 00:00:00+11:00  5129943       0.00           0.0   38.494738   \n",
      "2014-12-08 00:00:00+11:00  5193107       0.00           0.0   38.749059   \n",
      "2014-12-15 00:00:00+11:00  9099907       0.00           0.0   38.900846   \n",
      "...                            ...        ...           ...         ...   \n",
      "2024-04-22 00:00:00+10:00  2028788       0.00           0.0  190.467708   \n",
      "2024-04-29 00:00:00+10:00  3221948       0.00           0.0  189.851237   \n",
      "2024-05-06 00:00:00+10:00  3834701       0.00           0.0  188.944664   \n",
      "2024-05-13 00:00:00+10:00  4497288       3.85           0.0  188.839796   \n",
      "2024-05-20 00:00:00+10:00  3263851       0.00           0.0  188.063574   \n",
      "\n",
      "                               SMA_25  Momentum  Stochastic_%K  Stochastic_%D  \\\n",
      "Date                                                                            \n",
      "2014-11-17 00:00:00+11:00   38.343229 -1.314980      72.576338      88.153968   \n",
      "2014-11-24 00:00:00+11:00   38.334764 -0.413418      64.475900      78.464687   \n",
      "2014-12-01 00:00:00+11:00   38.323944 -0.013306      64.215191      67.089143   \n",
      "2014-12-08 00:00:00+11:00   38.368647  1.309959      89.882312      72.857801   \n",
      "2014-12-15 00:00:00+11:00   38.343954 -1.396400      60.752812      71.616772   \n",
      "...                               ...       ...            ...            ...   \n",
      "2024-04-22 00:00:00+10:00  179.976708 -6.311722      18.102594      49.105364   \n",
      "2024-04-29 00:00:00+10:00  180.985315  3.018646      31.620560      34.207356   \n",
      "2024-05-06 00:00:00+10:00  181.911686 -2.528595      18.873577      22.865577   \n",
      "2024-05-13 00:00:00+10:00  183.027926  9.251953      65.513902      38.669346   \n",
      "2024-05-20 00:00:00+10:00  183.983700 -2.362000      53.606749      45.998076   \n",
      "\n",
      "                                 RSI      MACD  MACD_Signal      Target  \n",
      "Date                                                                     \n",
      "2014-11-17 00:00:00+11:00  65.458093  0.128897    -0.176201   38.853123  \n",
      "2014-11-24 00:00:00+11:00  59.271768  0.140649    -0.112831   40.163082  \n",
      "2014-12-01 00:00:00+11:00  54.980615  0.147192    -0.060826   38.766682  \n",
      "2014-12-08 00:00:00+11:00  61.301623  0.255140     0.002367   38.447506  \n",
      "2014-12-15 00:00:00+11:00  55.419290  0.225412     0.046976   38.799927  \n",
      "...                              ...       ...          ...         ...  \n",
      "2024-04-22 00:00:00+10:00  50.920574  5.154226     6.051326  180.168060  \n",
      "2024-04-29 00:00:00+10:00  54.028308  4.419146     5.724890  189.420013  \n",
      "2024-05-06 00:00:00+10:00  46.365790  3.591156     5.298143  187.058014  \n",
      "2024-05-13 00:00:00+10:00  52.287588  3.639569     4.966428  192.210007  \n",
      "2024-05-20 00:00:00+10:00  49.966539  3.447601     4.662663  189.479996  \n",
      "\n",
      "[497 rows x 16 columns]\n"
     ]
    }
   ],
   "source": [
    "# delete rows with null/nan values\n",
    "data = data.dropna()\n",
    "print(len(data))\n",
    "print(data)"
   ]
  },
  {
   "cell_type": "code",
   "execution_count": 5,
   "id": "61487dc9",
   "metadata": {},
   "outputs": [
    {
     "name": "stdout",
     "output_type": "stream",
     "text": [
      "Contains NaN: False\n",
      "Number of rows with NaN: 0\n"
     ]
    }
   ],
   "source": [
    "contains_nan = data.isna().any().any()\n",
    "print(\"Contains NaN:\", contains_nan)\n",
    "\n",
    "num_rows_with_nan = data.isna().any(axis=1).sum()\n",
    "print(\"Number of rows with NaN:\", num_rows_with_nan)"
   ]
  },
  {
   "cell_type": "code",
   "execution_count": 8,
   "id": "f7296cf3",
   "metadata": {},
   "outputs": [
    {
     "name": "stdout",
     "output_type": "stream",
     "text": [
      "Mean Squared Error: 0.017153034781327032\n"
     ]
    }
   ],
   "source": [
    "from sklearn import datasets\n",
    "from sklearn.model_selection import train_test_split\n",
    "from sklearn.preprocessing import MinMaxScaler\n",
    "from sklearn.svm import SVR\n",
    "from sklearn.metrics import mean_squared_error\n",
    "from skopt import BayesSearchCV\n",
    "from skopt.space import Real\n",
    "\n",
    "scaler = MinMaxScaler(feature_range=(0, 1))\n",
    "scaled_data = scaler.fit_transform(data)\n",
    "\n",
    "# Split data into features and target\n",
    "features = scaled_data[:, :-1]\n",
    "target = scaled_data[:, -1]\n",
    "\n",
    "split_idx = int(len(features) * 0.7)\n",
    "X_train = features[:split_idx]\n",
    "X_test = features[split_idx:]\n",
    "\n",
    "\n",
    "# Split the target into training and testing sets\n",
    "y_train = target[:split_idx]\n",
    "y_test = target[split_idx:]\n",
    "\n",
    "scaler = MinMaxScaler()\n",
    "\n",
    "X_train = scaler.fit_transform(X_train)\n",
    "X_test = scaler.transform(X_test)\n",
    "\n",
    "\n",
    "search_spaces = {\n",
    "    'C': Real(0.1, 1000, prior='log-uniform'),\n",
    "    'epsilon': Real(0.1, 2, prior='log-uniform')\n",
    "}\n",
    "\n",
    "# Perform Bayesian Optimization\n",
    "svm_regressor = SVR(kernel='linear')\n",
    "\n",
    "bayes_search = BayesSearchCV(estimator=svm_regressor, search_spaces=search_spaces, n_iter=50, cv=5, scoring='neg_mean_squared_error', n_jobs=-1)\n",
    "bayes_search.fit(X_train, y_train)\n",
    "\n",
    "model = bayes_search.best_estimator_\n",
    "\n",
    "# Make predictions\n",
    "predictions = model.predict(X_test)\n",
    "\n",
    "mse = mean_squared_error(y_test, predictions)\n",
    "print(\"Mean Squared Error:\", mse)"
   ]
  },
  {
   "cell_type": "code",
   "execution_count": 9,
   "id": "d63f41d9",
   "metadata": {},
   "outputs": [
    {
     "name": "stdout",
     "output_type": "stream",
     "text": [
      "R^2 Score: -1.664616928824635\n",
      "Explained Variance Score: 0.7559952165685087\n"
     ]
    }
   ],
   "source": [
    "from sklearn.metrics import confusion_matrix, roc_curve, auc, RocCurveDisplay\n",
    "from sklearn.metrics import mean_absolute_error, r2_score, explained_variance_score\n",
    "\n",
    "\n",
    "r2 = r2_score(y_test, predictions)\n",
    "print(\"R^2 Score:\", r2)\n",
    "\n",
    "explained_variance = explained_variance_score(y_test, predictions)\n",
    "print(\"Explained Variance Score:\", explained_variance)\n"
   ]
  },
  {
   "cell_type": "code",
   "execution_count": 10,
   "id": "78912e3f",
   "metadata": {},
   "outputs": [
    {
     "name": "stdout",
     "output_type": "stream",
     "text": [
      "Mean Squared Error (MSE): 0.017153034\n",
      "Root Mean Squared Error (RMSE): 0.1309696\n",
      "Mean Absolute Error (MAE): 0.12509207\n",
      "R^2 (Coefficient of Determination): -1.664616928824635\n"
     ]
    }
   ],
   "source": [
    "from tensorflow.keras.metrics import MeanSquaredError, MeanAbsoluteError\n",
    "\n",
    "y_pred = predictions\n",
    "\n",
    "# Calculating Mean Squared Error (MSE)\n",
    "mse = MeanSquaredError()\n",
    "mse.update_state(y_test, y_pred)\n",
    "mse_result = mse.result().numpy()\n",
    "print(\"Mean Squared Error (MSE):\", mse_result)\n",
    "\n",
    "# Calculating Root Mean Squared Error (RMSE)\n",
    "rmse = np.sqrt(mse_result)\n",
    "print(\"Root Mean Squared Error (RMSE):\", rmse)\n",
    "\n",
    "# Calculating Mean Absolute Error (MAE)\n",
    "mae = MeanAbsoluteError()\n",
    "mae.update_state(y_test, y_pred)\n",
    "mae_result = mae.result().numpy()\n",
    "print(\"Mean Absolute Error (MAE):\", mae_result)\n",
    "\n",
    "# Optionally, calculating R^2 (Coefficient of Determination)\n",
    "# This is not built into Keras, so we use sklearn's functionality\n",
    "from sklearn.metrics import r2_score\n",
    "r2 = r2_score(y_test, y_pred)\n",
    "print(\"R^2 (Coefficient of Determination):\", r2)"
   ]
  },
  {
   "cell_type": "code",
   "execution_count": 11,
   "id": "26c3670a",
   "metadata": {},
   "outputs": [
    {
     "data": {
      "image/png": "[encoded data removed]",
      "text/plain": [
       "<Figure size 1000x500 with 1 Axes>"
      ]
     },
     "metadata": {},
     "output_type": "display_data"
    }
   ],
   "source": [
    "import matplotlib.pyplot as plt\n",
    "\n",
    "import numpy as np\n",
    "\n",
    "# If y_test and predictions are not already numpy arrays or if index needs reset\n",
    "y_test = np.array(y_test)\n",
    "predictions = np.array(predictions)\n",
    "\n",
    "# Plot using explicit indices for clarity\n",
    "plt.figure(figsize=(10, 5))\n",
    "plt.plot(range(len(y_test)), y_test, label='Actual Values', color='blue', marker='o')\n",
    "plt.plot(range(len(predictions)), predictions, label='Predicted Values', color='red', linestyle='--', marker='x')\n",
    "plt.title('Actual vs. Predicted Values')\n",
    "plt.xlabel('Index')\n",
    "plt.ylabel('Value')\n",
    "plt.legend()\n",
    "plt.grid(True)\n",
    "plt.show()\n"
   ]
  },
  {
   "cell_type": "code",
   "execution_count": null,
   "id": "c7180b4d",
   "metadata": {},
   "outputs": [],
   "source": []
  },
  {
   "cell_type": "code",
   "execution_count": null,
   "id": "e58c519f",
   "metadata": {},
   "outputs": [],
   "source": []
  },
  {
   "cell_type": "code",
   "execution_count": null,
   "id": "1adafe18",
   "metadata": {},
   "outputs": [],
   "source": []
  },
  {
   "cell_type": "code",
   "execution_count": null,
   "id": "a87dd9f8",
   "metadata": {},
   "outputs": [],
   "source": []
  }
 ],
 "metadata": {
  "kernelspec": {
   "display_name": "Python 3 (ipykernel)",
   "language": "python",
   "name": "python3"
  },
  "language_info": {
   "codemirror_mode": {
    "name": "ipython",
    "version": 3
   },
   "file_extension": ".py",
   "mimetype": "text/x-python",
   "name": "python",
   "nbconvert_exporter": "python",
   "pygments_lexer": "ipython3",
   "version": "3.11.5"
  }
 },
 "nbformat": 4,
 "nbformat_minor": 5
}
